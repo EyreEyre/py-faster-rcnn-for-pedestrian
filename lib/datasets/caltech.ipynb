{
 "cells": [
  {
   "cell_type": "code",
   "execution_count": 1,
   "metadata": {},
   "outputs": [
    {
     "name": "stdout",
     "output_type": "stream",
     "text": [
      "/home/xuzhewei/code/py-faster-rcnn-caltech-pedestrian/caffe-fast-rcnn/python\n",
      "/home/xuzhewei/code/py-faster-rcnn-caltech-pedestrian/lib\n",
      "['/home/xuzhewei/code/py-faster-rcnn-caltech-pedestrian', '/home/xuzhewei/code/py-faster-rcnn-caltech-pedestrian/lib', '/home/xuzhewei/code/py-faster-rcnn-caltech-pedestrian/caffe-fast-rcnn/python', '', '/home/all/lib/anaconda2/envs/caffe/lib/python27.zip', '/home/all/lib/anaconda2/envs/caffe/lib/python2.7', '/home/all/lib/anaconda2/envs/caffe/lib/python2.7/plat-linux2', '/home/all/lib/anaconda2/envs/caffe/lib/python2.7/lib-tk', '/home/all/lib/anaconda2/envs/caffe/lib/python2.7/lib-old', '/home/all/lib/anaconda2/envs/caffe/lib/python2.7/lib-dynload', '/home/xuzhewei/.local/lib/python2.7/site-packages', '/home/xuzhewei/code/Detection/lib', '/home/all/lib/anaconda2/envs/caffe/lib/python2.7/site-packages', '/home/all/lib/anaconda2/envs/caffe/lib/python2.7/site-packages/IPython/extensions', '/home/xuzhewei/.ipython']\n"
     ]
    }
   ],
   "source": [
    "import os.path as osp\n",
    "import os\n",
    "import sys\n",
    "\n",
    "def add_path(path):\n",
    "    if path not in sys.path:\n",
    "        sys.path.insert(0, path)\n",
    "\n",
    "this_dir = osp.dirname('/home/xuzhewei/code/py-faster-rcnn-caltech-pedestrian/')\n",
    "\n",
    "# Add caffe to PYTHONPATH\n",
    "caffe_path = osp.join(this_dir, 'caffe-fast-rcnn', 'python')\n",
    "print caffe_path\n",
    "add_path(caffe_path)\n",
    "\n",
    "# Add lib to PYTHONPATH\n",
    "lib_path = osp.join(this_dir, 'lib')\n",
    "print lib_path\n",
    "add_path(lib_path)\n",
    "\n",
    "lib_path = osp.join(this_dir)\n",
    "add_path(lib_path)\n",
    "\n",
    "print sys.path"
   ]
  },
  {
   "cell_type": "code",
   "execution_count": 5,
   "metadata": {},
   "outputs": [],
   "source": [
    "import caltech\n",
    "from fast_rcnn.config import cfg\n",
    "from IPython.core.debugger import Tracer\n",
    "\n",
    "cfg.TRAIN.PROPOSAL_METHOD = 'gt'\n",
    "imdb = caltech.caltech('train_1x',0)\n",
    "roidb = imdb.gt_xzw_roidb()"
   ]
  },
  {
   "cell_type": "code",
   "execution_count": 9,
   "metadata": {},
   "outputs": [
    {
     "data": {
      "text/plain": [
       "array([[0., 1., 0., 0., 0.],\n",
       "       [0., 1., 0., 0., 0.],\n",
       "       [0., 1., 0., 0., 0.]], dtype=float32)"
      ]
     },
     "execution_count": 9,
     "metadata": {},
     "output_type": "execute_result"
    }
   ],
   "source": [
    "roidb[79]['gt_overlaps'].toarray()"
   ]
  },
  {
   "cell_type": "code",
   "execution_count": null,
   "metadata": {},
   "outputs": [],
   "source": []
  }
 ],
 "metadata": {
  "kernelspec": {
   "display_name": "Python [conda env:caffe]",
   "language": "python",
   "name": "conda-env-caffe-py"
  },
  "language_info": {
   "codemirror_mode": {
    "name": "ipython",
    "version": 2
   },
   "file_extension": ".py",
   "mimetype": "text/x-python",
   "name": "python",
   "nbconvert_exporter": "python",
   "pygments_lexer": "ipython2",
   "version": "2.7.14"
  }
 },
 "nbformat": 4,
 "nbformat_minor": 2
}
